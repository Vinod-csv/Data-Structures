{
 "cells": [
  {
   "cell_type": "markdown",
   "id": "3aab2d66",
   "metadata": {},
   "source": [
    "Assignment - Python Data Structures\n",
    "1. Reverse a given list in Python\n",
    "List = [100, 200, 300, 400, 500]\n",
    "output:\n",
    "[500, 400, 300, 200, 100]"
   ]
  },
  {
   "cell_type": "code",
   "execution_count": 7,
   "id": "a7ffaee1",
   "metadata": {},
   "outputs": [
    {
     "name": "stdout",
     "output_type": "stream",
     "text": [
      "Original List [100, 200, 300, 400, 500]\n",
      "Reversed List [500, 400, 300, 200, 100]\n"
     ]
    }
   ],
   "source": [
    "List = [100, 200, 300, 400, 500]\n",
    "print(f'Original List', List)\n",
    "List.reverse()\n",
    "print(f'Reversed List',List)"
   ]
  },
  {
   "cell_type": "markdown",
   "id": "874b1507",
   "metadata": {},
   "source": [
    "2. Concatenate two lists index-wise\n",
    "Given:\n",
    "list1 = [\"M\", \"na\", \"i\", \"Raj\"]\n",
    "list2 = [\"y\", \"me\", \"s\", \"esh\"]"
   ]
  },
  {
   "cell_type": "code",
   "execution_count": 13,
   "id": "f6251e81",
   "metadata": {},
   "outputs": [
    {
     "name": "stdout",
     "output_type": "stream",
     "text": [
      "Original Lists ['M', 'na', 'i', 'Raj'] ['y', 'me', 's', 'esh']\n",
      "['My', 'name', 'is', 'Rajesh']\n"
     ]
    }
   ],
   "source": [
    "list1 = [\"M\", \"na\", \"i\", \"Raj\"]\n",
    "list2 = [\"y\", \"me\", \"s\", \"esh\"]\n",
    "\n",
    "print('Original Lists',list1,list2)\n",
    "\n",
    "concat_list = [ i + j for i, j in zip(list1, list2)]\n",
    "\n",
    "print(concat_list)"
   ]
  },
  {
   "cell_type": "markdown",
   "id": "ee3547eb",
   "metadata": {},
   "source": [
    "3. Merge following two Python dictionaries into one\n",
    "dict1 = {'Ten': 10, 'Twenty': 20, 'Thirty': 30}\n",
    "dict2 = {'Thirty': 30, 'Fourty': 40, 'Fifty': 50}\n",
    "Expected output:\n",
    "{'Ten': 10, 'Twenty': 20, 'Thirty': 30, 'Fourty': 40, 'Fifty': 50}"
   ]
  },
  {
   "cell_type": "code",
   "execution_count": 19,
   "id": "7e055a5c",
   "metadata": {},
   "outputs": [
    {
     "name": "stdout",
     "output_type": "stream",
     "text": [
      "Two dictionaries are {'Ten': 10, 'Twenty': 20, 'Thirty': 30} {'Thirty': 30, 'Fourty': 40, 'Fifty': 50}\n",
      "{'Ten': 10, 'Twenty': 20, 'Thirty': 30, 'Fourty': 40, 'Fifty': 50}\n"
     ]
    }
   ],
   "source": [
    "dict1 = {'Ten': 10, 'Twenty': 20, 'Thirty': 30}\n",
    "dict2 = {'Thirty': 30, 'Fourty': 40, 'Fifty': 50}\n",
    "\n",
    "print('Two dictionaries are',dict1,dict2)\n",
    "dict3 = dict1 | dict2\n",
    "\n",
    "print(dict3)"
   ]
  },
  {
   "cell_type": "markdown",
   "id": "0c95c985",
   "metadata": {},
   "source": [
    "4. Given a Python list, remove all occurrence of 20 from the list\n",
    "list1 = [5, 20, 15, 20, 25, 50, 20]\n",
    "Output:\n",
    "[5, 15, 25, 50]"
   ]
  },
  {
   "cell_type": "code",
   "execution_count": 37,
   "id": "8262f2de",
   "metadata": {},
   "outputs": [
    {
     "name": "stdout",
     "output_type": "stream",
     "text": [
      "[5, 20, 15, 20, 25, 50, 20]\n",
      "[5, 15, 20, 25, 50, 20]\n",
      "[5, 15, 25, 50, 20]\n",
      "[5, 15, 25, 50]\n"
     ]
    }
   ],
   "source": [
    "list1 = [5, 20, 15, 20, 25, 50, 20]\n",
    "print(list1)\n",
    "for i in list1[:]:\n",
    "    if i == 20:\n",
    "        list1.remove(i)\n",
    "        print(list1)"
   ]
  },
  {
   "cell_type": "markdown",
   "id": "8c5b1142",
   "metadata": {},
   "source": [
    "5. How to remove duplicates from a list of tuples using the list\n",
    "comprehension technique?\n",
    "#a list of tuples\n",
    "list_of_tuples= [(\"C#\", 1), (\"C#\", 1), (\"C++\", 3), (\"C++\", 3), (\"Python\", 25), (\"Rust\", 30)]\n",
    "Write the syntax for the above question."
   ]
  },
  {
   "cell_type": "markdown",
   "id": "6749e55f",
   "metadata": {},
   "source": [
    "[t for t in list_of_tuples if t not in seen and not seen.add(t)"
   ]
  },
  {
   "cell_type": "code",
   "execution_count": 41,
   "id": "8a2dbb66",
   "metadata": {},
   "outputs": [
    {
     "name": "stdout",
     "output_type": "stream",
     "text": [
      "[('C#', 1), ('C#', 1), ('C++', 3), ('C++', 3), ('Python', 25), ('Rust', 30)]\n",
      "[('C#', 1), ('C++', 3), ('Python', 25), ('Rust', 30)]\n"
     ]
    }
   ],
   "source": [
    "list_of_tuples= [(\"C#\", 1), (\"C#\", 1), (\"C++\", 3), (\"C++\", 3), (\"Python\", 25), (\"Rust\", 30)]\n",
    "print(list_of_tuples)\n",
    "\n",
    "seen = set()\n",
    "unique_list = [t for t in list_of_tuples if t not in seen and not seen.add(t)]\n",
    "print(unique_list)\n",
    "    "
   ]
  },
  {
   "cell_type": "markdown",
   "id": "ccd313ff",
   "metadata": {},
   "source": [
    "6. Convert list to tuple.\n",
    "listelements = ['C#', 'Java', 'Go', 'Rust']\n",
    "Write the syntax for the above question."
   ]
  },
  {
   "cell_type": "code",
   "execution_count": 42,
   "id": "b1a98b96",
   "metadata": {},
   "outputs": [
    {
     "name": "stdout",
     "output_type": "stream",
     "text": [
      "['C#', 'Java', 'Go', 'Rust']\n",
      "('C#', 'Java', 'Go', 'Rust')\n"
     ]
    }
   ],
   "source": [
    "listelements = ['C#', 'Java', 'Go', 'Rust']\n",
    "print(listelements)\n",
    "\n",
    "tuplelist = tuple(listelements)\n",
    "print(tuplelist)"
   ]
  },
  {
   "cell_type": "markdown",
   "id": "6d028bf0",
   "metadata": {},
   "source": [
    "7. Get the number of items in a set:\n",
    "thisset = {\"apple\", \"banana\", \"cherry\"}\n",
    "Write the syntax for the above question."
   ]
  },
  {
   "cell_type": "code",
   "execution_count": 44,
   "id": "8d3eae9b",
   "metadata": {},
   "outputs": [
    {
     "name": "stdout",
     "output_type": "stream",
     "text": [
      "{'apple', 'cherry', 'banana'}\n",
      "3\n"
     ]
    }
   ],
   "source": [
    "thisset = {\"apple\", \"banana\", \"cherry\"}\n",
    "print(thisset)\n",
    "print(len(thisset))"
   ]
  },
  {
   "cell_type": "markdown",
   "id": "a4e38118",
   "metadata": {},
   "source": [
    "8. Check if \"apple\" is present in the ‘fruits’ set using the\n",
    "membership test method.\n",
    "fruits = {\"apple\", \"banana\", \"cherry\"}\n",
    "Write the syntax for the above question."
   ]
  },
  {
   "cell_type": "code",
   "execution_count": 47,
   "id": "32732845",
   "metadata": {},
   "outputs": [
    {
     "name": "stdout",
     "output_type": "stream",
     "text": [
      "{'apple', 'cherry', 'banana'}\n",
      "True\n"
     ]
    }
   ],
   "source": [
    "fruits = {\"apple\", \"banana\", \"cherry\"}\n",
    "print(fruits)\n",
    "\n",
    "print('apple' in fruits)"
   ]
  },
  {
   "cell_type": "markdown",
   "id": "48b4b2fe",
   "metadata": {},
   "source": [
    "9. Use the correct method to add multiple items (more_fruits) to\n",
    "the fruits set.\n",
    "fruits = {\"apple\", \"banana\", \"cherry\"}\n",
    "more_fruits = [\"orange\", \"mango\", \"grapes\"]\n",
    "Hint: Use ‘update’ method in python"
   ]
  },
  {
   "cell_type": "code",
   "execution_count": 52,
   "id": "5ac309d7",
   "metadata": {},
   "outputs": [
    {
     "name": "stdout",
     "output_type": "stream",
     "text": [
      "['apple', 'banana', 'cherry', 'grapes', 'mango', 'orange']\n"
     ]
    }
   ],
   "source": [
    "fruits = {\"apple\", \"banana\", \"cherry\"}\n",
    "more_fruits = [\"orange\", \"mango\", \"grapes\"]\n",
    "\n",
    "fruits.update(more_fruits)\n",
    "print(sorted(fruits))"
   ]
  },
  {
   "cell_type": "markdown",
   "id": "fa759ac6",
   "metadata": {},
   "source": [
    "10. Display all the keys with value 200 from the following dictionary.\n",
    "sampleDict = {'a': 100, 'b': 200, 'c': 300,’d’:200}"
   ]
  },
  {
   "cell_type": "code",
   "execution_count": 68,
   "id": "34e2ca8e",
   "metadata": {},
   "outputs": [
    {
     "name": "stdout",
     "output_type": "stream",
     "text": [
      "{'a': 100, 'b': 200, 'c': 300, 'd': 200}\n",
      "['b', 'd']\n"
     ]
    }
   ],
   "source": [
    "sampleDict = {'a': 100, 'b': 200, 'c': 300,'d':200}\n",
    "print(sampleDict)\n",
    "\n",
    "keys_value = [key for key,value in sampleDict.items() if value == 200]\n",
    "print(keys_value)"
   ]
  },
  {
   "cell_type": "code",
   "execution_count": null,
   "id": "605cd9ea",
   "metadata": {},
   "outputs": [],
   "source": []
  }
 ],
 "metadata": {
  "kernelspec": {
   "display_name": "Python 3",
   "language": "python",
   "name": "python3"
  },
  "language_info": {
   "codemirror_mode": {
    "name": "ipython",
    "version": 3
   },
   "file_extension": ".py",
   "mimetype": "text/x-python",
   "name": "python",
   "nbconvert_exporter": "python",
   "pygments_lexer": "ipython3",
   "version": "3.12.4"
  }
 },
 "nbformat": 4,
 "nbformat_minor": 5
}
