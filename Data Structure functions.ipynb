{
 "cells": [
  {
   "cell_type": "code",
   "execution_count": 2,
   "metadata": {},
   "outputs": [
    {
     "name": "stdout",
     "output_type": "stream",
     "text": [
      "['Apple', 'Banana', 'Cherry', 'Grapes', 'Kiwi', 'Mango', 'Orange', 'Pineapple']\n",
      "['Apple', 'Banana', 'Cherry', 'Grapes', 'Kiwi', 'Mango', 'Orange', 'Pineapple', 'orange']\n",
      "['Apple', 'Banana', 'Cherry', 'Grapes', 'Kiwi', 'Mango', 'Pineapple', 'orange']\n",
      "['Apple', 'Banana', 'Cherry', 'Guava', 'Grapes', 'Kiwi', 'Mango', 'Pineapple', 'orange']\n",
      "['Apple', 'Banana', 'Cherry', 'Guava', 'Kiwi', 'Mango', 'Pineapple', 'orange']\n",
      "['orange', 'Pineapple', 'Mango', 'Kiwi', 'Guava', 'Cherry', 'Banana', 'Apple']\n"
     ]
    }
   ],
   "source": [
    "# LIST functions\n",
    "fruits=[\"Apple\",\"Banana\", \"Cherry\",\"Grapes\",\"Kiwi\",\"Mango\",\"Orange\",\"Pineapple\"]\n",
    "print(fruits)\n",
    "fruits.append(\"orange\") #adding orange\n",
    "print(fruits)\n",
    "fruits.remove(\"Orange\") # removing Orange\n",
    "print(fruits)\n",
    "fruits.insert(3,\"Guava\") #inserting\n",
    "print(fruits)\n",
    "fruits.pop(4) #removing by index number\n",
    "print(fruits)\n",
    "fruits.sort() \n",
    "fruits.reverse() #reversing list\n",
    "print(fruits)"
   ]
  },
  {
   "cell_type": "code",
   "execution_count": null,
   "metadata": {},
   "outputs": [],
   "source": [
    "#TUPLE functions\n",
    "\n",
    "t=(1,2,3,4,5,6,6,7,8,9,10)\n",
    "print(\"Data type\",type(t),\"elements\",t)\n",
    "print(\"Lenght of Tuple\",len(t))\n",
    "print(\"Values at Index number 4:\",t.index(4))\n",
    "print(\"Count of 6 in the List =\",t.count(6))\n",
    "print(\"Max values in the tuple =\",max(t))\n",
    "print('Sum of Tuple :',sum(t))"
   ]
  },
  {
   "cell_type": "code",
   "execution_count": 24,
   "metadata": {},
   "outputs": [
    {
     "name": "stdout",
     "output_type": "stream",
     "text": [
      "Data type <class 'dict'> Elements {'Name': 'Vinod', 'Age': 31, 'Qualificaton': 'Graduate'}\n",
      "Lenght of Dictionary 3\n",
      "keys of student dict_keys(['Name', 'Age', 'Qualificaton'])\n",
      "Values of student dict_values(['Vinod', 31, 'Graduate'])\n",
      "Items of Student dict_items([('Name', 'Vinod'), ('Age', 31), ('Qualificaton', 'Graduate')])\n",
      "Age is : 31\n",
      "Removing Graduate from student\n",
      "{'Name': 'Vinod', 'Age': 31}\n"
     ]
    }
   ],
   "source": [
    "#Dictionary Functions\n",
    "student={\"Name\":\"Vinod\",\"Age\":31,\"Qualificaton\":\"Graduate\"}\n",
    "print(\"Data type\",type(student),\"Elements\",student)\n",
    "print(\"Lenght of Dictionary\",len(student))\n",
    "print(\"keys of student\",student.keys())\n",
    "print(\"Values of student\",student.values())\n",
    "print(\"Items of Student\",student.items())\n",
    "print(\"Age is :\",student.get(\"Age\"))\n",
    "print(\"Removing\" ,student.pop(\"Qualificaton\"),\"from student\")\n",
    "print(student)\n"
   ]
  },
  {
   "cell_type": "code",
   "execution_count": 25,
   "metadata": {},
   "outputs": [
    {
     "name": "stdout",
     "output_type": "stream",
     "text": [
      "Adding Strawberry None\n",
      "removing banana None\n",
      "{'Kiwi', 'Cherry', 'Grapes', 'Apple', 'Strawberry'}\n"
     ]
    }
   ],
   "source": [
    "#SET operations\n",
    "fruits={\"Apple\",\"Banana\", \"Cherry\",\"Grapes\",\"Kiwi\"}\n",
    "print(\"Adding Strawberry\",fruits.add(\"Strawberry\"))\n",
    "print(\"removing banana\",fruits.remove(\"Banana\"))\n",
    "print(fruits)\n",
    "\n"
   ]
  }
 ],
 "metadata": {
  "kernelspec": {
   "display_name": "Python 3",
   "language": "python",
   "name": "python3"
  },
  "language_info": {
   "codemirror_mode": {
    "name": "ipython",
    "version": 3
   },
   "file_extension": ".py",
   "mimetype": "text/x-python",
   "name": "python",
   "nbconvert_exporter": "python",
   "pygments_lexer": "ipython3",
   "version": "3.11.6"
  }
 },
 "nbformat": 4,
 "nbformat_minor": 2
}
